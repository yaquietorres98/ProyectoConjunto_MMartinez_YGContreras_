{
 "cells": [
  {
   "cell_type": "markdown",
   "metadata": {},
   "source": [
    "### ¿Qué espero de la clase ?\n",
    "<font color= orange>\n",
    "De este curso espero\n",
    "- Aprender a más acerca de Python \n",
    "- Saber como simular de manera correcta \n",
    "- Poder determinar el riesgo ante diferente escenarios \n",
    "   "
   ]
  },
  {
   "cell_type": "markdown",
   "metadata": {},
   "source": [
    "###  Resumen del artículo:\n",
    "## PYTHON HA TRAIDO EL LENGUAJE DE PROGRAMACIÓN A UNA NUEVA AUDIENCIA  \n",
    "![python](https://python.rs/pylogo.png) \n",
    "<font color= green>\n",
    "**Python** es uno de los lenguajes de programación que ha tenido **más auge** en los últimos tiempos y se ha convertido en uno de los principales. Este lenguaje lo creo un holandés, Guido van Rossum, en diciembre de 1989. Él quería que su lenguaje fuera simple de leer, también debería permitir a los usuarios crear sus propios paquetes de módulos de codificación de propósito especial, que después podrían estar disponibles para la base de otros programas\n",
    "Su intención no era crearlo para un uso masivo, pero ahora es más buscado en google que Kim Kardashian. El programa no solo ha crecido en uso en los ámbitos laborales, en un 40 %, sino también para todos los usos. \n",
    "Van Rossum se convirtió en líder y el que vigilaba todo este sistema y no le gusta que la gente lo vea como un ídolo, desde hace poco ya decidió deslindarse y dejar que avanzara Python por los demás. \n",
    "Python no es un lenguaje perfecto. Hay otros como C+ que nos ayudan a saber que está pasando en el procesador de la computadora y Java es popular para la creación de aplicaciones largas y complejas. Pero *Python por su lenguaje sencillo , hace que los códigos sean fáciles de compartir y de aprender*, aparte de que tiene una gran versatilidad. Lo utilizan en muchas grandes compañías como Citigroup. Hay que tener cuidado ya que gente que no sepa sobre el tema en profundidad puede llegar a unas conclusiones que no son certeras.\n",
    "Ahora están intentando que Python se convierta en una herramienta que se enseñe a los niños desde la primaria, después va a ir siendo necesaria la especialización pero es una herramienta que nos sería muy útil a todos."
   ]
  },
  {
   "cell_type": "markdown",
   "metadata": {},
   "source": [
    "### Copiar las fórmulas en LaTex"
   ]
  },
  {
   "cell_type": "markdown",
   "metadata": {},
   "source": [
    "1. La fórmula el rectángulo se obtiene al interpolar a $ f(x) $ por medio del polinomio constante $ p_0(x)=f \\left( \\displaystyle\\frac{a+b}{2} \\right) $\n",
    "\n",
    "\\begin{equation}\n",
    "\\int_{a}^{b} f(x) \\ dx \\approx (b-a) \\ f \\left( \\displaystyle\\frac{a+b}{2} \\right)= R(f)\n",
    "\\end{equation}"
   ]
  },
  {
   "cell_type": "markdown",
   "metadata": {},
   "source": [
    "2. La formula del trapecio se obtiene al interpolar a f por medio de un polinomio lineal $ \\ p_1(x)= \\alpha x+\\beta $ que satisfaga  $ f(a)=p_1(a) \\ $ y $\\ f(b)=p_1(b) $.\n",
    "Determinar el polinomio lineal es equivalente a resolver un sistema de ecuaciones lineales para $ \\alpha $ y $ \\beta $\n",
    "cuya solución es: \n",
    "\n",
    "\\begin{equation}\n",
    "\\alpha   = \\frac{f(b)-f(a)}{b-a}   \\ \\ \\ \\ \\ \\beta = \\frac{f(b)a - f(a)b}{b-a}\n",
    "\\end{equation}\n",
    "\n",
    "Al integrar $p_1(x)$ en el intervalo [a,b] se obtiene la regla del trapecio con $ h= b-a $\n",
    "\\begin{equation}\n",
    "\\int_{a}^{b} {f(x)} \\ dx -T(f)= -\\displaystyle\\frac{h^3}{12} (f ''(n)), a<n<b.\n",
    "\\end{equation}\n",
    "\n",
    "El error está dado por \n",
    "\\begin{equation}\n",
    "\\int_{a}^{b} {f(x)} \\ dx -T(f)= -\\displaystyle\\frac{h^3}{12} (f ''(n)), a<n<b.\n",
    "\\end{equation}"
   ]
  },
  {
   "cell_type": "markdown",
   "metadata": {},
   "source": [
    "3. Por último al integrar el polinomio cuadrático que interpola a f en $ x= a, x= \\frac{a+b}{2}. $ y $ x = b $ se obtiene la regla de Simpson con $ h = \\frac{b-a}{2}$\n",
    "\\begin{equation}\n",
    "\\int_{a}^{b} {f(x)} \\ dx \\approx \\int_{a}^{b} {p_2(x)} \\ dx =\\displaystyle\\frac{h}{3}(f (a)+4f(a+h) + f(b))= S(f).\n",
    "\\end{equation}\n",
    "El error que se comete al usar Simpson es \n",
    "\\begin{equation}\n",
    "\\int_{a}^{b} {f(x)} \\ dx -S(f)= \\displaystyle\\frac{h^5}{90} (f^4(n)), a<n<b.\n",
    "\\end{equation}"
   ]
  },
  {
   "cell_type": "markdown",
   "metadata": {},
   "source": [
    "## Código para la serie de Fibonnaci"
   ]
  },
  {
   "cell_type": "code",
   "execution_count": 6,
   "metadata": {},
   "outputs": [],
   "source": [
    "def fib(n):\n",
    "    if n <= 1:\n",
    "        return n\n",
    "    else:\n",
    "        return fib(n - 1) + fib(n - 2)"
   ]
  },
  {
   "cell_type": "code",
   "execution_count": 8,
   "metadata": {},
   "outputs": [
    {
     "data": {
      "text/plain": [
       "[0,\n",
       " 1,\n",
       " 1,\n",
       " 2,\n",
       " 3,\n",
       " 5,\n",
       " 8,\n",
       " 13,\n",
       " 21,\n",
       " 34,\n",
       " 55,\n",
       " 89,\n",
       " 144,\n",
       " 233,\n",
       " 377,\n",
       " 610,\n",
       " 987,\n",
       " 1597,\n",
       " 2584,\n",
       " 4181,\n",
       " 6765,\n",
       " 10946,\n",
       " 17711,\n",
       " 28657,\n",
       " 46368,\n",
       " 75025,\n",
       " 121393,\n",
       " 196418,\n",
       " 317811,\n",
       " 514229]"
      ]
     },
     "execution_count": 8,
     "metadata": {},
     "output_type": "execute_result"
    }
   ],
   "source": [
    "[fib(i) for i in range(30)]"
   ]
  },
  {
   "cell_type": "markdown",
   "metadata": {},
   "source": [
    "## Código de números primos del 0 al 100"
   ]
  },
  {
   "cell_type": "code",
   "execution_count": null,
   "metadata": {},
   "outputs": [],
   "source": []
  },
  {
   "cell_type": "code",
   "execution_count": null,
   "metadata": {},
   "outputs": [],
   "source": []
  }
 ],
 "metadata": {
  "kernelspec": {
   "display_name": "Python 3",
   "language": "python",
   "name": "python3"
  },
  "language_info": {
   "codemirror_mode": {
    "name": "ipython",
    "version": 3
   },
   "file_extension": ".py",
   "mimetype": "text/x-python",
   "name": "python",
   "nbconvert_exporter": "python",
   "pygments_lexer": "ipython3",
   "version": "3.6.5"
  }
 },
 "nbformat": 4,
 "nbformat_minor": 2
}
